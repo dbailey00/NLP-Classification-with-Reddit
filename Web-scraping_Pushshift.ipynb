{
 "cells": [
  {
   "cell_type": "code",
   "execution_count": 4,
   "metadata": {},
   "outputs": [],
   "source": [
    "import pandas as pd\n",
    "import requests\n",
    "import numpy as np\n",
    "import time\n",
    "from datetime import datetime, timedelta\n",
    "import json "
   ]
  },
  {
   "cell_type": "code",
   "execution_count": 5,
   "metadata": {},
   "outputs": [],
   "source": [
    "sub = 'rockets'\n",
    "size = '500'"
   ]
  },
  {
   "cell_type": "code",
   "execution_count": 6,
   "metadata": {
    "scrolled": true
   },
   "outputs": [],
   "source": [
    "url = f'https://api.pushshift.io/reddit/search/submission?subreddit={sub}&size={size}'"
   ]
  },
  {
   "cell_type": "code",
   "execution_count": 7,
   "metadata": {},
   "outputs": [
    {
     "data": {
      "text/plain": [
       "200"
      ]
     },
     "execution_count": 7,
     "metadata": {},
     "output_type": "execute_result"
    }
   ],
   "source": [
    "r = requests.get(url)\n",
    "r.status_code"
   ]
  },
  {
   "cell_type": "code",
   "execution_count": 8,
   "metadata": {},
   "outputs": [],
   "source": [
    "# looking at len of data\n",
    "data = r.json()"
   ]
  },
  {
   "cell_type": "code",
   "execution_count": 9,
   "metadata": {},
   "outputs": [
    {
     "data": {
      "text/plain": [
       "{'all_awardings': [],\n",
       " 'allow_live_comments': False,\n",
       " 'author': 'demon1212',\n",
       " 'author_flair_css_class': None,\n",
       " 'author_flair_richtext': [],\n",
       " 'author_flair_text': None,\n",
       " 'author_flair_type': 'text',\n",
       " 'author_fullname': 't2_7is9z',\n",
       " 'author_patreon_flair': False,\n",
       " 'awarders': [],\n",
       " 'can_mod_post': False,\n",
       " 'contest_mode': False,\n",
       " 'created_utc': 1571408845,\n",
       " 'domain': 'i.redd.it',\n",
       " 'full_link': 'https://www.reddit.com/r/rockets/comments/djo9jy/there_are_some_gms_that_dont_think_hardens_the/',\n",
       " 'gildings': {},\n",
       " 'id': 'djo9jy',\n",
       " 'is_crosspostable': True,\n",
       " 'is_meta': False,\n",
       " 'is_original_content': False,\n",
       " 'is_reddit_media_domain': True,\n",
       " 'is_robot_indexable': True,\n",
       " 'is_self': False,\n",
       " 'is_video': False,\n",
       " 'link_flair_background_color': '',\n",
       " 'link_flair_richtext': [],\n",
       " 'link_flair_text_color': 'dark',\n",
       " 'link_flair_type': 'text',\n",
       " 'locked': False,\n",
       " 'media_only': False,\n",
       " 'no_follow': True,\n",
       " 'num_comments': 3,\n",
       " 'num_crossposts': 0,\n",
       " 'over_18': False,\n",
       " 'parent_whitelist_status': 'all_ads',\n",
       " 'permalink': '/r/rockets/comments/djo9jy/there_are_some_gms_that_dont_think_hardens_the/',\n",
       " 'pinned': False,\n",
       " 'pwls': 6,\n",
       " 'retrieved_on': 1571408846,\n",
       " 'score': 1,\n",
       " 'selftext': '',\n",
       " 'send_replies': True,\n",
       " 'spoiler': False,\n",
       " 'steward_reports': [],\n",
       " 'stickied': False,\n",
       " 'subreddit': 'rockets',\n",
       " 'subreddit_id': 't5_2rnac',\n",
       " 'subreddit_subscribers': 105039,\n",
       " 'subreddit_type': 'public',\n",
       " 'thumbnail': 'default',\n",
       " 'title': 'There are some gms that don’t think hardens the best current shooting guard',\n",
       " 'total_awards_received': 0,\n",
       " 'url': 'https://i.redd.it/305knbqr7bt31.jpg',\n",
       " 'whitelist_status': 'all_ads',\n",
       " 'wls': 6}"
      ]
     },
     "execution_count": 9,
     "metadata": {},
     "output_type": "execute_result"
    }
   ],
   "source": [
    "# looking at data fields to grab \n",
    "\n",
    "data['data'][0] "
   ]
  },
  {
   "cell_type": "code",
   "execution_count": 11,
   "metadata": {},
   "outputs": [],
   "source": [
    "# Fucntion to pull reddit posts using Pushshitft API\n",
    "# Arguments:\n",
    "# subreddit: str, name of subreddit to search for\n",
    "# post_type: {'submission', 'comment'}, type of post to search for\n",
    "# loops: int, number of times to request posts\n",
    "# size: int, number of posts per request \n",
    "# skip: int, number of days back to search in each loop\n",
    "\n",
    "def pushshift(subreddit, post_type='submission', loops=1, size=500, skip=30):\n",
    "\n",
    "\n",
    "    # data fields to return for submissions\n",
    "    subfields = ['author', 'author_fullname', 'created_utc', 'id', 'num_comments', 'permalink', \n",
    "                 'score', 'selftext', 'subreddit', 'title', 'url', 'is_self']    \n",
    "    # data fields to return for comments\n",
    "    comfields = ['author', 'author_fullname', 'body', 'created_utc', 'id', 'parent_id', \n",
    "                'permalink', 'score', 'subreddit']\n",
    "    # instantiate list for posts data\n",
    "    list_posts = [] \n",
    "    url_stem = \"https://api.pushshift.io/reddit/search/{}/?subreddit={}&size={}\".format(post_type, subreddit, size)\n",
    "    # skip a minimum of 1 day\n",
    "    after = 1    \n",
    "\n",
    "    # check before requesting data\n",
    "    if post_type not in ['submission', 'comment']:\n",
    "        print(\"post_type must be 'submission' or 'comment'\")\n",
    "        return None\n",
    "    \n",
    "    for i in range(loops):\n",
    "        # add parameters to url to skip posts\n",
    "        url = '{}&after={}d'.format(url_stem, skip * i + after) \n",
    "        # monitor status as loops run\n",
    "        print(i, url)\n",
    "        # get data\n",
    "        res = requests.get(url)\n",
    "        # add dictionaries for posts to list_posts\n",
    "        list_posts.extend(res.json()['data']) \n",
    "        # sleep\n",
    "        time.sleep(1) \n",
    "\n",
    "    # turn list_posts into a dataframe\n",
    "    df_posts = pd.DataFrame.from_dict(list_posts) \n",
    "\n",
    "    # filter fields for submissions or comments\n",
    "    if post_type == 'submission':\n",
    "        df_posts = df_posts[subfields]\n",
    "    elif post_type == 'comment':\n",
    "        df_posts = df_posts[comfields]  \n",
    "\n",
    "\n",
    "    # drop any duplicates\n",
    "    df_posts.drop_duplicates(inplace=True)\n",
    "    # add a field identifying submissions or comments\n",
    "    df_posts['post_type'] = post_type\n",
    "    \n",
    "    return df_posts"
   ]
  },
  {
   "cell_type": "code",
   "execution_count": 45,
   "metadata": {},
   "outputs": [
    {
     "name": "stdout",
     "output_type": "stream",
     "text": [
      "0 https://api.pushshift.io/reddit/search/submission/?subreddit=rockets&size=500&after=1d\n",
      "1 https://api.pushshift.io/reddit/search/submission/?subreddit=rockets&size=500&after=2d\n",
      "2 https://api.pushshift.io/reddit/search/submission/?subreddit=rockets&size=500&after=3d\n",
      "3 https://api.pushshift.io/reddit/search/submission/?subreddit=rockets&size=500&after=4d\n",
      "4 https://api.pushshift.io/reddit/search/submission/?subreddit=rockets&size=500&after=5d\n",
      "5 https://api.pushshift.io/reddit/search/submission/?subreddit=rockets&size=500&after=6d\n",
      "6 https://api.pushshift.io/reddit/search/submission/?subreddit=rockets&size=500&after=7d\n",
      "7 https://api.pushshift.io/reddit/search/submission/?subreddit=rockets&size=500&after=8d\n",
      "8 https://api.pushshift.io/reddit/search/submission/?subreddit=rockets&size=500&after=9d\n",
      "9 https://api.pushshift.io/reddit/search/submission/?subreddit=rockets&size=500&after=10d\n",
      "10 https://api.pushshift.io/reddit/search/submission/?subreddit=rockets&size=500&after=11d\n",
      "11 https://api.pushshift.io/reddit/search/submission/?subreddit=rockets&size=500&after=12d\n",
      "12 https://api.pushshift.io/reddit/search/submission/?subreddit=rockets&size=500&after=13d\n",
      "13 https://api.pushshift.io/reddit/search/submission/?subreddit=rockets&size=500&after=14d\n",
      "14 https://api.pushshift.io/reddit/search/submission/?subreddit=rockets&size=500&after=15d\n",
      "15 https://api.pushshift.io/reddit/search/submission/?subreddit=rockets&size=500&after=16d\n",
      "16 https://api.pushshift.io/reddit/search/submission/?subreddit=rockets&size=500&after=17d\n",
      "17 https://api.pushshift.io/reddit/search/submission/?subreddit=rockets&size=500&after=18d\n",
      "18 https://api.pushshift.io/reddit/search/submission/?subreddit=rockets&size=500&after=19d\n",
      "19 https://api.pushshift.io/reddit/search/submission/?subreddit=rockets&size=500&after=20d\n",
      "shape (911, 13)\n"
     ]
    }
   ],
   "source": [
    "rockets_subs = pushshift('rockets', post_type='submission', loops=20, skip=1)\n",
    "print('shape', rockets_subs.shape)\n",
    "rockets_subs.to_csv('rockets_subs-pushshift.csv')"
   ]
  },
  {
   "cell_type": "code",
   "execution_count": 46,
   "metadata": {},
   "outputs": [
    {
     "name": "stdout",
     "output_type": "stream",
     "text": [
      "0 https://api.pushshift.io/reddit/search/submission/?subreddit=nba&size=500&after=1d\n",
      "1 https://api.pushshift.io/reddit/search/submission/?subreddit=nba&size=500&after=2d\n",
      "2 https://api.pushshift.io/reddit/search/submission/?subreddit=nba&size=500&after=3d\n",
      "3 https://api.pushshift.io/reddit/search/submission/?subreddit=nba&size=500&after=4d\n",
      "4 https://api.pushshift.io/reddit/search/submission/?subreddit=nba&size=500&after=5d\n",
      "5 https://api.pushshift.io/reddit/search/submission/?subreddit=nba&size=500&after=6d\n",
      "6 https://api.pushshift.io/reddit/search/submission/?subreddit=nba&size=500&after=7d\n",
      "7 https://api.pushshift.io/reddit/search/submission/?subreddit=nba&size=500&after=8d\n",
      "8 https://api.pushshift.io/reddit/search/submission/?subreddit=nba&size=500&after=9d\n",
      "9 https://api.pushshift.io/reddit/search/submission/?subreddit=nba&size=500&after=10d\n",
      "10 https://api.pushshift.io/reddit/search/submission/?subreddit=nba&size=500&after=11d\n",
      "11 https://api.pushshift.io/reddit/search/submission/?subreddit=nba&size=500&after=12d\n",
      "12 https://api.pushshift.io/reddit/search/submission/?subreddit=nba&size=500&after=13d\n",
      "13 https://api.pushshift.io/reddit/search/submission/?subreddit=nba&size=500&after=14d\n",
      "14 https://api.pushshift.io/reddit/search/submission/?subreddit=nba&size=500&after=15d\n",
      "15 https://api.pushshift.io/reddit/search/submission/?subreddit=nba&size=500&after=16d\n",
      "16 https://api.pushshift.io/reddit/search/submission/?subreddit=nba&size=500&after=17d\n",
      "17 https://api.pushshift.io/reddit/search/submission/?subreddit=nba&size=500&after=18d\n",
      "18 https://api.pushshift.io/reddit/search/submission/?subreddit=nba&size=500&after=19d\n",
      "19 https://api.pushshift.io/reddit/search/submission/?subreddit=nba&size=500&after=20d\n",
      "shape (8207, 13)\n"
     ]
    }
   ],
   "source": [
    "nba_subs = pushshift('nba', post_type='submission', loops=20, skip=1)\n",
    "print('shape', nba_subs.shape)\n",
    "nba_subs.to_csv('nba_subs-pushshift.csv')"
   ]
  },
  {
   "cell_type": "code",
   "execution_count": 47,
   "metadata": {},
   "outputs": [
    {
     "name": "stdout",
     "output_type": "stream",
     "text": [
      "0 https://api.pushshift.io/reddit/search/comment/?subreddit=rockets&size=500&after=1d\n",
      "1 https://api.pushshift.io/reddit/search/comment/?subreddit=rockets&size=500&after=2d\n",
      "2 https://api.pushshift.io/reddit/search/comment/?subreddit=rockets&size=500&after=3d\n",
      "3 https://api.pushshift.io/reddit/search/comment/?subreddit=rockets&size=500&after=4d\n",
      "4 https://api.pushshift.io/reddit/search/comment/?subreddit=rockets&size=500&after=5d\n",
      "5 https://api.pushshift.io/reddit/search/comment/?subreddit=rockets&size=500&after=6d\n",
      "6 https://api.pushshift.io/reddit/search/comment/?subreddit=rockets&size=500&after=7d\n",
      "7 https://api.pushshift.io/reddit/search/comment/?subreddit=rockets&size=500&after=8d\n",
      "8 https://api.pushshift.io/reddit/search/comment/?subreddit=rockets&size=500&after=9d\n",
      "9 https://api.pushshift.io/reddit/search/comment/?subreddit=rockets&size=500&after=10d\n",
      "10 https://api.pushshift.io/reddit/search/comment/?subreddit=rockets&size=500&after=11d\n",
      "11 https://api.pushshift.io/reddit/search/comment/?subreddit=rockets&size=500&after=12d\n",
      "12 https://api.pushshift.io/reddit/search/comment/?subreddit=rockets&size=500&after=13d\n",
      "13 https://api.pushshift.io/reddit/search/comment/?subreddit=rockets&size=500&after=14d\n",
      "14 https://api.pushshift.io/reddit/search/comment/?subreddit=rockets&size=500&after=15d\n",
      "15 https://api.pushshift.io/reddit/search/comment/?subreddit=rockets&size=500&after=16d\n",
      "16 https://api.pushshift.io/reddit/search/comment/?subreddit=rockets&size=500&after=17d\n",
      "17 https://api.pushshift.io/reddit/search/comment/?subreddit=rockets&size=500&after=18d\n",
      "18 https://api.pushshift.io/reddit/search/comment/?subreddit=rockets&size=500&after=19d\n",
      "19 https://api.pushshift.io/reddit/search/comment/?subreddit=rockets&size=500&after=20d\n",
      "shape (7885, 10)\n"
     ]
    }
   ],
   "source": [
    "rockets_coms = pushshift('rockets', post_type='comment', loops=20, skip=1)\n",
    "print('shape', rockets_coms.shape)\n",
    "rockets_coms.to_csv('rockets_coms-pushshift.csv')"
   ]
  },
  {
   "cell_type": "code",
   "execution_count": 48,
   "metadata": {},
   "outputs": [
    {
     "name": "stdout",
     "output_type": "stream",
     "text": [
      "0 https://api.pushshift.io/reddit/search/comment/?subreddit=nba&size=500&after=1d\n",
      "1 https://api.pushshift.io/reddit/search/comment/?subreddit=nba&size=500&after=2d\n",
      "2 https://api.pushshift.io/reddit/search/comment/?subreddit=nba&size=500&after=3d\n",
      "3 https://api.pushshift.io/reddit/search/comment/?subreddit=nba&size=500&after=4d\n",
      "4 https://api.pushshift.io/reddit/search/comment/?subreddit=nba&size=500&after=5d\n",
      "5 https://api.pushshift.io/reddit/search/comment/?subreddit=nba&size=500&after=6d\n",
      "6 https://api.pushshift.io/reddit/search/comment/?subreddit=nba&size=500&after=7d\n",
      "7 https://api.pushshift.io/reddit/search/comment/?subreddit=nba&size=500&after=8d\n",
      "8 https://api.pushshift.io/reddit/search/comment/?subreddit=nba&size=500&after=9d\n",
      "9 https://api.pushshift.io/reddit/search/comment/?subreddit=nba&size=500&after=10d\n",
      "10 https://api.pushshift.io/reddit/search/comment/?subreddit=nba&size=500&after=11d\n",
      "11 https://api.pushshift.io/reddit/search/comment/?subreddit=nba&size=500&after=12d\n",
      "12 https://api.pushshift.io/reddit/search/comment/?subreddit=nba&size=500&after=13d\n",
      "13 https://api.pushshift.io/reddit/search/comment/?subreddit=nba&size=500&after=14d\n",
      "14 https://api.pushshift.io/reddit/search/comment/?subreddit=nba&size=500&after=15d\n",
      "15 https://api.pushshift.io/reddit/search/comment/?subreddit=nba&size=500&after=16d\n",
      "16 https://api.pushshift.io/reddit/search/comment/?subreddit=nba&size=500&after=17d\n",
      "17 https://api.pushshift.io/reddit/search/comment/?subreddit=nba&size=500&after=18d\n",
      "18 https://api.pushshift.io/reddit/search/comment/?subreddit=nba&size=500&after=19d\n",
      "19 https://api.pushshift.io/reddit/search/comment/?subreddit=nba&size=500&after=20d\n",
      "shape (10000, 10)\n"
     ]
    }
   ],
   "source": [
    "nba_coms = pushshift('nba', post_type='comment', loops=20, skip=1)\n",
    "print('shape', nba_coms.shape)\n",
    "nba_coms.to_csv('nba_coms-pushshift.csv')"
   ]
  },
  {
   "cell_type": "code",
   "execution_count": 49,
   "metadata": {},
   "outputs": [],
   "source": [
    "df = pd.concat([rockets_coms[['body', 'subreddit']], nba_coms[['body', 'subreddit']]], ignore_index=True)\n",
    "df.to_csv('comments.csv', index=False)"
   ]
  }
 ],
 "metadata": {
  "kernelspec": {
   "display_name": "Python 3",
   "language": "python",
   "name": "python3"
  },
  "language_info": {
   "codemirror_mode": {
    "name": "ipython",
    "version": 3
   },
   "file_extension": ".py",
   "mimetype": "text/x-python",
   "name": "python",
   "nbconvert_exporter": "python",
   "pygments_lexer": "ipython3",
   "version": "3.7.3"
  }
 },
 "nbformat": 4,
 "nbformat_minor": 2
}
