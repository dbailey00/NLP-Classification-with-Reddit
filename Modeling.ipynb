{
 "cells": [
  {
   "cell_type": "code",
   "execution_count": 128,
   "metadata": {},
   "outputs": [],
   "source": [
    "import numpy as np\n",
    "import pandas as pd\n",
    "import re\n",
    "import string\n",
    "import nltk\n",
    "import matplotlib.pyplot as plt\n",
    "from nltk.stem import WordNetLemmatizer\n",
    "from nltk.corpus import stopwords # Import the stop word list\n",
    "from sklearn.feature_extraction.text import CountVectorizer, TfidfVectorizer, TfidfTransformer\n",
    "from sklearn.pipeline import Pipeline\n",
    "from sklearn.naive_bayes import MultinomialNB\n",
    "from sklearn.model_selection import train_test_split, GridSearchCV\n",
    "\n",
    "import pandas as pd\n",
    "from sklearn.pipeline import Pipeline\n",
    "from sklearn.model_selection import train_test_split, GridSearchCV\n",
    "from sklearn.linear_model import LogisticRegression\n",
    "from sklearn.naive_bayes import GaussianNB\n",
    "# Import CountVectorizer and TFIDFVectorizer from feature_extraction.text.\n",
    "from sklearn.feature_extraction.text import CountVectorizer, TfidfVectorizer\n",
    "\n",
    "# Import stopwords.\n",
    "from nltk.corpus import stopwords # Import the stop word list\n",
    "\n",
    "from nltk.stem import WordNetLemmatizer\n",
    "from bs4 import BeautifulSoup \n",
    "import regex as re\n",
    "from sklearn.model_selection import cross_val_score\n",
    "\n",
    "# Import confusion matrix.\n",
    "from sklearn.metrics import confusion_matrix\n",
    "\n",
    "from sklearn.tree import DecisionTreeRegressor\n",
    "from sklearn.ensemble import RandomForestRegressor, BaggingRegressor, AdaBoostRegressor,RandomForestClassifier, ExtraTreesClassifier\n",
    "from sklearn.preprocessing import StandardScaler\n",
    "from nltk.tokenize import RegexpTokenizer\n",
    "from nltk.corpus import stopwords\n",
    "from sklearn.feature_extraction.text import CountVectorizer, TfidfVectorizer\n",
    "from sklearn.pipeline import Pipeline"
   ]
  },
  {
   "cell_type": "code",
   "execution_count": 129,
   "metadata": {},
   "outputs": [],
   "source": [
    "pd.set_option('display.max_rows', 500)\n",
    "pd.set_option('display.max_columns', 500)\n",
    "pd.set_option('display.width', 1000)"
   ]
  },
  {
   "cell_type": "code",
   "execution_count": 130,
   "metadata": {},
   "outputs": [],
   "source": [
    "# adding variable stopwords from other notebook\n",
    "\n",
    "%store -r stopwords"
   ]
  },
  {
   "cell_type": "code",
   "execution_count": 131,
   "metadata": {},
   "outputs": [],
   "source": [
    "from sklearn.feature_extraction import text\n",
    "\n",
    "text.ENGLISH_STOP_WORDS\n",
    "\n",
    "my_stop_words = text.ENGLISH_STOP_WORDS.union(stopwords)"
   ]
  },
  {
   "cell_type": "code",
   "execution_count": 132,
   "metadata": {},
   "outputs": [],
   "source": [
    "df = pd.read_csv('clean_comments.csv')"
   ]
  },
  {
   "cell_type": "code",
   "execution_count": 133,
   "metadata": {
    "scrolled": true
   },
   "outputs": [
    {
     "data": {
      "text/plain": [
       "(16549, 2)"
      ]
     },
     "execution_count": 133,
     "metadata": {},
     "output_type": "execute_result"
    }
   ],
   "source": [
    "df.shape"
   ]
  },
  {
   "cell_type": "code",
   "execution_count": 134,
   "metadata": {},
   "outputs": [
    {
     "data": {
      "text/plain": [
       "body      152\n",
       "target      0\n",
       "dtype: int64"
      ]
     },
     "execution_count": 134,
     "metadata": {},
     "output_type": "execute_result"
    }
   ],
   "source": [
    "df.isna().sum()"
   ]
  },
  {
   "cell_type": "code",
   "execution_count": 135,
   "metadata": {},
   "outputs": [],
   "source": [
    "df.dropna(inplace=True)"
   ]
  },
  {
   "cell_type": "code",
   "execution_count": 136,
   "metadata": {},
   "outputs": [
    {
     "data": {
      "text/plain": [
       "body      0\n",
       "target    0\n",
       "dtype: int64"
      ]
     },
     "execution_count": 136,
     "metadata": {},
     "output_type": "execute_result"
    }
   ],
   "source": [
    "df.isna().sum()"
   ]
  },
  {
   "cell_type": "code",
   "execution_count": 137,
   "metadata": {},
   "outputs": [
    {
     "data": {
      "text/plain": [
       "(16397, 2)"
      ]
     },
     "execution_count": 137,
     "metadata": {},
     "output_type": "execute_result"
    }
   ],
   "source": [
    "df.shape"
   ]
  },
  {
   "cell_type": "code",
   "execution_count": 138,
   "metadata": {
    "scrolled": false
   },
   "outputs": [
    {
     "data": {
      "text/html": [
       "<div>\n",
       "<style scoped>\n",
       "    .dataframe tbody tr th:only-of-type {\n",
       "        vertical-align: middle;\n",
       "    }\n",
       "\n",
       "    .dataframe tbody tr th {\n",
       "        vertical-align: top;\n",
       "    }\n",
       "\n",
       "    .dataframe thead th {\n",
       "        text-align: right;\n",
       "    }\n",
       "</style>\n",
       "<table border=\"1\" class=\"dataframe\">\n",
       "  <thead>\n",
       "    <tr style=\"text-align: right;\">\n",
       "      <th></th>\n",
       "      <th>body</th>\n",
       "      <th>target</th>\n",
       "    </tr>\n",
       "  </thead>\n",
       "  <tbody>\n",
       "    <tr>\n",
       "      <td>0</td>\n",
       "      <td>lebron such idiot for using the word misinform...</td>\n",
       "      <td>1</td>\n",
       "    </tr>\n",
       "    <tr>\n",
       "      <td>1</td>\n",
       "      <td>maybe should sent somewhere educated how think...</td>\n",
       "      <td>1</td>\n",
       "    </tr>\n",
       "    <tr>\n",
       "      <td>2</td>\n",
       "      <td>the change with china going happen when it eco...</td>\n",
       "      <td>1</td>\n",
       "    </tr>\n",
       "    <tr>\n",
       "      <td>3</td>\n",
       "      <td>fucking clown cannot believe ill informed dang...</td>\n",
       "      <td>1</td>\n",
       "    </tr>\n",
       "    <tr>\n",
       "      <td>4</td>\n",
       "      <td>apologized for hurt feeling not great but nowh...</td>\n",
       "      <td>1</td>\n",
       "    </tr>\n",
       "  </tbody>\n",
       "</table>\n",
       "</div>"
      ],
      "text/plain": [
       "                                                body  target\n",
       "0  lebron such idiot for using the word misinform...       1\n",
       "1  maybe should sent somewhere educated how think...       1\n",
       "2  the change with china going happen when it eco...       1\n",
       "3  fucking clown cannot believe ill informed dang...       1\n",
       "4  apologized for hurt feeling not great but nowh...       1"
      ]
     },
     "execution_count": 138,
     "metadata": {},
     "output_type": "execute_result"
    }
   ],
   "source": [
    "df.head()"
   ]
  },
  {
   "cell_type": "code",
   "execution_count": 139,
   "metadata": {},
   "outputs": [],
   "source": [
    "X = df['body']\n",
    "y = df['target']"
   ]
  },
  {
   "cell_type": "code",
   "execution_count": 140,
   "metadata": {},
   "outputs": [],
   "source": [
    "X_train, X_test, y_train, y_test = train_test_split(X,\n",
    "                                                    y,\n",
    "                                                    test_size=0.33,\n",
    "                                                    stratify=y,\n",
    "                                                    random_state=42)"
   ]
  },
  {
   "cell_type": "code",
   "execution_count": 141,
   "metadata": {
    "scrolled": false
   },
   "outputs": [
    {
     "data": {
      "text/plain": [
       "0    0.585046\n",
       "1    0.414954\n",
       "Name: target, dtype: float64"
      ]
     },
     "execution_count": 141,
     "metadata": {},
     "output_type": "execute_result"
    }
   ],
   "source": [
    "# Base line score 58.5%\n",
    "\n",
    "y.value_counts(normalize=True)"
   ]
  },
  {
   "cell_type": "markdown",
   "metadata": {},
   "source": [
    "### Most Common Words by Subreddit"
   ]
  },
  {
   "cell_type": "code",
   "execution_count": 142,
   "metadata": {},
   "outputs": [
    {
     "data": {
      "text/plain": [
       "Text(0.5, 1.0, 'Word Frequency: Rockets')"
      ]
     },
     "execution_count": 142,
     "metadata": {},
     "output_type": "execute_result"
    },
    {
     "data": {
      "image/png": "[encoded data removed]",
      "text/plain": [
       "<Figure size 432x288 with 1 Axes>"
      ]
     },
     "metadata": {
      "needs_background": "light"
     },
     "output_type": "display_data"
    }
   ],
   "source": [
    "rockets_words = list(df.body[(df.target == 1)])\n",
    "\n",
    "rcvec = CountVectorizer(analyzer = \"word\", \n",
    "                             tokenizer = None, \n",
    "                             preprocessor = None,\n",
    "                             stop_words = 'english', \n",
    "                             max_features = 35) \n",
    "\n",
    "r_cv = rcvec.fit_transform(rockets_words)\n",
    "\n",
    "rockets_words = pd.DataFrame(r_cv.todense(), columns=rcvec.get_feature_names())\n",
    "\n",
    "r_coef = rockets_words.mean().sort_values(ascending=False)[:10]\n",
    "\n",
    "plt.barh(r_coef.index, r_coef.values, color='r')\n",
    "plt.title('Word Frequency: Rockets')"
   ]
  },
  {
   "cell_type": "code",
   "execution_count": 143,
   "metadata": {},
   "outputs": [
    {
     "data": {
      "text/plain": [
       "Text(0.5, 1.0, 'Word Frequency: Rockets')"
      ]
     },
     "execution_count": 143,
     "metadata": {},
     "output_type": "execute_result"
    },
    {
     "data": {
      "image/png": "[encoded data removed]",
      "text/plain": [
       "<Figure size 432x288 with 1 Axes>"
      ]
     },
     "metadata": {
      "needs_background": "light"
     },
     "output_type": "display_data"
    }
   ],
   "source": [
    "rockets_words = list(df.body[(df.target == 1)])\n",
    "\n",
    "rcvec = CountVectorizer(analyzer = \"word\", \n",
    "                             tokenizer = None, \n",
    "                             preprocessor = None,\n",
    "                             stop_words = my_stop_words, \n",
    "                             max_features = 35) \n",
    "\n",
    "r_cv = rcvec.fit_transform(rockets_words)\n",
    "\n",
    "rockets_words = pd.DataFrame(r_cv.todense(), columns=rcvec.get_feature_names())\n",
    "\n",
    "r_coef = rockets_words.mean().sort_values(ascending=False)[:10]\n",
    "\n",
    "plt.barh(r_coef.index, r_coef.values, color='r')\n",
    "plt.title('Word Frequency: Rockets')"
   ]
  },
  {
   "cell_type": "code",
   "execution_count": 144,
   "metadata": {
    "scrolled": true
   },
   "outputs": [
    {
     "data": {
      "text/plain": [
       "Text(0.5, 1.0, 'Word Frequency: NBA')"
      ]
     },
     "execution_count": 144,
     "metadata": {},
     "output_type": "execute_result"
    },
    {
     "data": {
      "image/png": "[encoded data removed]",
      "text/plain": [
       "<Figure size 432x288 with 1 Axes>"
      ]
     },
     "metadata": {
      "needs_background": "light"
     },
     "output_type": "display_data"
    }
   ],
   "source": [
    "rockets_words = list(df.body[(df.target == 0)])\n",
    "\n",
    "rcvec = CountVectorizer(analyzer = \"word\", \n",
    "                             tokenizer = None, \n",
    "                             preprocessor = None,\n",
    "                             stop_words = my_stop_words, \n",
    "                             max_features = 35) \n",
    "\n",
    "r_cv = rcvec.fit_transform(rockets_words)\n",
    "\n",
    "rockets_words = pd.DataFrame(r_cv.todense(), columns=rcvec.get_feature_names())\n",
    "\n",
    "r_coef = rockets_words.mean().sort_values(ascending=False)[:10]\n",
    "\n",
    "plt.barh(r_coef.index, r_coef.values, color='b')\n",
    "plt.title('Word Frequency: NBA')"
   ]
  },
  {
   "cell_type": "code",
   "execution_count": 145,
   "metadata": {},
   "outputs": [
    {
     "data": {
      "text/plain": [
       "Text(0.5, 1.0, 'Word Frequency: NBA')"
      ]
     },
     "execution_count": 145,
     "metadata": {},
     "output_type": "execute_result"
    },
    {
     "data": {
      "image/png": "[encoded data removed]",
      "text/plain": [
       "<Figure size 432x288 with 1 Axes>"
      ]
     },
     "metadata": {
      "needs_background": "light"
     },
     "output_type": "display_data"
    }
   ],
   "source": [
    "rockets_words = list(df.body[(df.target == 0)])\n",
    "\n",
    "rcvec = CountVectorizer(analyzer = \"word\", \n",
    "                             tokenizer = None, \n",
    "                             preprocessor = None,\n",
    "                             stop_words = 'english', \n",
    "                             max_features = 35) \n",
    "\n",
    "r_cv = rcvec.fit_transform(rockets_words)\n",
    "\n",
    "rockets_words = pd.DataFrame(r_cv.todense(), columns=rcvec.get_feature_names())\n",
    "\n",
    "r_coef = rockets_words.mean().sort_values(ascending=False)[:10]\n",
    "\n",
    "plt.barh(r_coef.index, r_coef.values, color='b')\n",
    "plt.title('Word Frequency: NBA')"
   ]
  },
  {
   "cell_type": "markdown",
   "metadata": {},
   "source": [
    "### Logistic Regression, Cvec with stopwords"
   ]
  },
  {
   "cell_type": "code",
   "execution_count": 146,
   "metadata": {
    "scrolled": true
   },
   "outputs": [
    {
     "name": "stdout",
     "output_type": "stream",
     "text": [
      "Fitting 3 folds for each of 4 candidates, totalling 12 fits\n"
     ]
    },
    {
     "name": "stderr",
     "output_type": "stream",
     "text": [
      "[Parallel(n_jobs=1)]: Using backend SequentialBackend with 1 concurrent workers.\n",
      "/home/dylan/anaconda3/lib/python3.7/site-packages/sklearn/linear_model/logistic.py:432: FutureWarning: Default solver will be changed to 'lbfgs' in 0.22. Specify a solver to silence this warning.\n",
      "  FutureWarning)\n",
      "[Parallel(n_jobs=1)]: Done  12 out of  12 | elapsed:    1.8s finished\n"
     ]
    },
    {
     "name": "stdout",
     "output_type": "stream",
     "text": [
      "Gridsearch Best Params: {'cvec__max_features': 75000, 'cvec__ngram_range': (1, 1)}\n",
      "Lr and Cvec Training Score:0.7466545289030496\n",
      "Lr and Cvec Testing Score:0.6577974870657798\n"
     ]
    }
   ],
   "source": [
    "# Instantiate a CountVectorizer.\n",
    "cvec = CountVectorizer(stop_words=my_stop_words)\n",
    "\n",
    "# Fit the vectorizer on our corpus.\n",
    "cvec.fit(X_train)\n",
    "\n",
    "# Transform the corpus.\n",
    "X_train = cvec.transform(X_train)\n",
    "\n",
    "# Convert X_train into a DataFrame.\n",
    "\n",
    "X_train_df = pd.DataFrame(X_train.toarray(),\n",
    "                          columns=cvec.get_feature_names())\n",
    "\n",
    "# Transform test\n",
    "X_test = cvec.transform(X_test)\n",
    "X_test_df = pd.DataFrame(X_test.toarray(),\n",
    "                         columns=cvec.get_feature_names())\n",
    "\n",
    "# Redefine training and testing sets.\n",
    "X_train, X_test, y_train, y_test = train_test_split(X,\n",
    "                                                    y,\n",
    "                                                    test_size=0.33,\n",
    "                                                    stratify=y,\n",
    "                                                    random_state=42)\n",
    "\n",
    "# 1. An instance of CountVectorizer (transformer)\n",
    "# 2. A LogisticRegression instance (estimator)\n",
    "\n",
    "cvec_lr_pipe = Pipeline([\n",
    "    ('cvec', CountVectorizer(stop_words=my_stop_words)),\n",
    "    ('lr', LogisticRegression())\n",
    "])\n",
    "\n",
    "cvec_lr_pipe_params = {\n",
    "    'cvec__max_features': [75000, None],\n",
    "    'cvec__ngram_range': [(1,1), (1,2)],\n",
    "}\n",
    "\n",
    "# Instantiate GridSearchCV.\n",
    "\n",
    "lrcv_gs = GridSearchCV(cvec_lr_pipe, # what object are we optimizing?\n",
    "                  cvec_lr_pipe_params, # what parameters values are we searching?\n",
    "                  cv=3,    # 3-fold cross-validation.\n",
    "                 verbose=1) \n",
    "\n",
    "\n",
    "# Fit GridSearch to training data.\n",
    "lrcv_gs.fit(X_train, y_train);\n",
    "\n",
    "# Save best model as gs_model.\n",
    "lrcv_gs_model = lrcv_gs.best_estimator_\n",
    "\n",
    "# Best Parameters\n",
    "print(f'Gridsearch Best Params: {lrcv_gs.best_params_}')\n",
    "\n",
    "# Test and Train Scores\n",
    "print(f'Lr and Cvec Training Score:{lrcv_gs_model.score(X_train, y_train)}')\n",
    "print(f'Lr and Cvec Testing Score:{lrcv_gs_model.score(X_test, y_test)}')\n",
    "\n",
    "coef = lrcv_gs_model.named_steps['lr'].coef_\n",
    "features = lrcv_gs_model.named_steps['cvec'].get_feature_names"
   ]
  },
  {
   "cell_type": "code",
   "execution_count": 52,
   "metadata": {
    "scrolled": false
   },
   "outputs": [],
   "source": [
    "result_df = pd.DataFrame(lrcv_gs_model.named_steps['lr'].coef_, \n",
    "                         columns=lrcv_gs_model.named_steps['cvec'].get_feature_names(),\n",
    "                         index=['target']).T"
   ]
  },
  {
   "cell_type": "code",
   "execution_count": 53,
   "metadata": {
    "scrolled": false
   },
   "outputs": [
    {
     "data": {
      "text/html": [
       "<div>\n",
       "<style scoped>\n",
       "    .dataframe tbody tr th:only-of-type {\n",
       "        vertical-align: middle;\n",
       "    }\n",
       "\n",
       "    .dataframe tbody tr th {\n",
       "        vertical-align: top;\n",
       "    }\n",
       "\n",
       "    .dataframe thead th {\n",
       "        text-align: right;\n",
       "    }\n",
       "</style>\n",
       "<table border=\"1\" class=\"dataframe\">\n",
       "  <thead>\n",
       "    <tr style=\"text-align: right;\">\n",
       "      <th></th>\n",
       "      <th>target</th>\n",
       "    </tr>\n",
       "  </thead>\n",
       "  <tbody>\n",
       "    <tr>\n",
       "      <td>rus</td>\n",
       "      <td>2.297220</td>\n",
       "    </tr>\n",
       "    <tr>\n",
       "      <td>clint</td>\n",
       "      <td>2.279343</td>\n",
       "    </tr>\n",
       "    <tr>\n",
       "      <td>rocket</td>\n",
       "      <td>1.969049</td>\n",
       "    </tr>\n",
       "    <tr>\n",
       "      <td>mda</td>\n",
       "      <td>1.864539</td>\n",
       "    </tr>\n",
       "    <tr>\n",
       "      <td>clown</td>\n",
       "      <td>1.859201</td>\n",
       "    </tr>\n",
       "    <tr>\n",
       "      <td>...</td>\n",
       "      <td>...</td>\n",
       "    </tr>\n",
       "    <tr>\n",
       "      <td>kanter</td>\n",
       "      <td>-1.527790</td>\n",
       "    </tr>\n",
       "    <tr>\n",
       "      <td>kyrie</td>\n",
       "      <td>-1.591948</td>\n",
       "    </tr>\n",
       "    <tr>\n",
       "      <td>luka</td>\n",
       "      <td>-1.612909</td>\n",
       "    </tr>\n",
       "    <tr>\n",
       "      <td>simmons</td>\n",
       "      <td>-1.710782</td>\n",
       "    </tr>\n",
       "    <tr>\n",
       "      <td>zion</td>\n",
       "      <td>-1.967835</td>\n",
       "    </tr>\n",
       "  </tbody>\n",
       "</table>\n",
       "<p>75000 rows × 1 columns</p>\n",
       "</div>"
      ],
      "text/plain": [
       "           target\n",
       "rus      2.297220\n",
       "clint    2.279343\n",
       "rocket   1.969049\n",
       "mda      1.864539\n",
       "clown    1.859201\n",
       "...           ...\n",
       "kanter  -1.527790\n",
       "kyrie   -1.591948\n",
       "luka    -1.612909\n",
       "simmons -1.710782\n",
       "zion    -1.967835\n",
       "\n",
       "[75000 rows x 1 columns]"
      ]
     },
     "execution_count": 53,
     "metadata": {},
     "output_type": "execute_result"
    }
   ],
   "source": [
    "result_df.sort_values(by='target', ascending=False)"
   ]
  },
  {
   "cell_type": "code",
   "execution_count": 54,
   "metadata": {},
   "outputs": [
    {
     "data": {
      "text/html": [
       "<div>\n",
       "<style scoped>\n",
       "    .dataframe tbody tr th:only-of-type {\n",
       "        vertical-align: middle;\n",
       "    }\n",
       "\n",
       "    .dataframe tbody tr th {\n",
       "        vertical-align: top;\n",
       "    }\n",
       "\n",
       "    .dataframe thead th {\n",
       "        text-align: right;\n",
       "    }\n",
       "</style>\n",
       "<table border=\"1\" class=\"dataframe\">\n",
       "  <thead>\n",
       "    <tr style=\"text-align: right;\">\n",
       "      <th></th>\n",
       "      <th>predicted neg</th>\n",
       "      <th>predicted pos</th>\n",
       "    </tr>\n",
       "  </thead>\n",
       "  <tbody>\n",
       "    <tr>\n",
       "      <td>actual neg</td>\n",
       "      <td>2638</td>\n",
       "      <td>528</td>\n",
       "    </tr>\n",
       "    <tr>\n",
       "      <td>actual pos</td>\n",
       "      <td>1099</td>\n",
       "      <td>1147</td>\n",
       "    </tr>\n",
       "  </tbody>\n",
       "</table>\n",
       "</div>"
      ],
      "text/plain": [
       "            predicted neg  predicted pos\n",
       "actual neg           2638            528\n",
       "actual pos           1099           1147"
      ]
     },
     "execution_count": 54,
     "metadata": {},
     "output_type": "execute_result"
    }
   ],
   "source": [
    "# Confusion Matrix for Logistic Regression and Cvec\n",
    "\n",
    "lrcv_best_score = lrcv_gs_model\n",
    "\n",
    "preds = lrcv_best_score.predict(X_test)\n",
    "\n",
    "# Generate predictions.\n",
    "cm = confusion_matrix(y_test, preds)\n",
    "\n",
    "# Convert confusion matrix to dataframe\n",
    "cm_df = pd.DataFrame(cm,\n",
    "                    columns = ['predicted neg', 'predicted pos'],\n",
    "                    index = ['actual neg', 'actual pos'])\n",
    "cm_df"
   ]
  },
  {
   "cell_type": "markdown",
   "metadata": {},
   "source": [
    "### Logistic Regression with TFID and stop words"
   ]
  },
  {
   "cell_type": "code",
   "execution_count": 102,
   "metadata": {
    "scrolled": true
   },
   "outputs": [
    {
     "name": "stdout",
     "output_type": "stream",
     "text": [
      "Fitting 3 folds for each of 8 candidates, totalling 24 fits\n"
     ]
    },
    {
     "name": "stderr",
     "output_type": "stream",
     "text": [
      "[Parallel(n_jobs=1)]: Using backend SequentialBackend with 1 concurrent workers.\n",
      "/home/dylan/anaconda3/lib/python3.7/site-packages/sklearn/linear_model/logistic.py:432: FutureWarning: Default solver will be changed to 'lbfgs' in 0.22. Specify a solver to silence this warning.\n",
      "  FutureWarning)\n",
      "[Parallel(n_jobs=1)]: Done  24 out of  24 | elapsed:    3.3s finished\n"
     ]
    },
    {
     "name": "stdout",
     "output_type": "stream",
     "text": [
      "Gridsearch Best Params: {'tvec__max_features': 10000, 'tvec__ngram_range': (1, 1), 'tvec__use_idf': True}\n",
      "Lr and Tvec Training Score:0.7466545289030496\n",
      "Lr and Tvec Testing Score:0.6533628972653363\n"
     ]
    }
   ],
   "source": [
    "# Instantiate a CountVectorizer.\n",
    "tvec = TfidfVectorizer(stop_words=my_stop_words)\n",
    "\n",
    "# Fit the vectorizer on our corpus.\n",
    "tvec.fit(X_train)\n",
    "\n",
    "# Transform the corpus.\n",
    "X_train = tvec.transform(X_train)\n",
    "\n",
    "# Convert X_train into a DataFrame.\n",
    "\n",
    "X_train_df = pd.DataFrame(X_train.toarray(),\n",
    "                          columns=tvec.get_feature_names())\n",
    "\n",
    "# Transform test\n",
    "X_test = tvec.transform(X_test)\n",
    "X_test_df = pd.DataFrame(X_test.toarray(),\n",
    "                         columns=tvec.get_feature_names())\n",
    "\n",
    "# Redefine training and testing sets.\n",
    "X_train, X_test, y_train, y_test = train_test_split(X,\n",
    "                                                    y,\n",
    "                                                    test_size=0.33,\n",
    "                                                    stratify=y,\n",
    "                                                    random_state=42)\n",
    "\n",
    "# 1. An instance of CountVectorizer (transformer)\n",
    "# 2. A LogisticRegression instance (estimator)\n",
    "\n",
    "tvec_lr_pipe = Pipeline([\n",
    "    ('tvec', TfidfVectorizer(stop_words=my_stop_words)),\n",
    "    ('lr', LogisticRegression())\n",
    "])\n",
    "\n",
    "tvec_lr_pipe_params = {\n",
    "    'tvec__max_features': [10000, None],\n",
    "    'tvec__ngram_range': [(1,1), (1,2)],\n",
    "    'tvec__use_idf': [True, False]\n",
    "}\n",
    "\n",
    "# Instantiate GridSearchCV.\n",
    "\n",
    "lrtv_gs = GridSearchCV(tvec_lr_pipe, # what object are we optimizing?\n",
    "                  tvec_lr_pipe_params, # what parameters values are we searching?\n",
    "                  cv=3,       # 3-fold cross-validation.\n",
    "                 verbose=1) \n",
    "\n",
    "# Fit GridSearch to training data.\n",
    "lrtv_gs.fit(X_train, y_train);\n",
    "\n",
    "# Save best model as gs_model.\n",
    "lrtv_gs_model = lrtv_gs.best_estimator_\n",
    "\n",
    "# Best Parameters\n",
    "print(f'Gridsearch Best Params: {lrtv_gs.best_params_}')\n",
    "\n",
    "# Test and Train Scores\n",
    "print(f'Lr and Tvec Training Score:{lrtv_gs_model.score(X_train, y_train)}')\n",
    "print(f'Lr and Tvec Testing Score:{lrtv_gs_model.score(X_test, y_test)}')\n",
    "\n"
   ]
  },
  {
   "cell_type": "code",
   "execution_count": 87,
   "metadata": {},
   "outputs": [],
   "source": [
    "result_df = pd.DataFrame(lrtv_gs_model.named_steps['lr'].coef_, \n",
    "                         columns=lrtv_gs_model.named_steps['tvec'].get_feature_names(),\n",
    "                         index=['target']).T"
   ]
  },
  {
   "cell_type": "code",
   "execution_count": 88,
   "metadata": {
    "scrolled": false
   },
   "outputs": [
    {
     "data": {
      "text/html": [
       "<div>\n",
       "<style scoped>\n",
       "    .dataframe tbody tr th:only-of-type {\n",
       "        vertical-align: middle;\n",
       "    }\n",
       "\n",
       "    .dataframe tbody tr th {\n",
       "        vertical-align: top;\n",
       "    }\n",
       "\n",
       "    .dataframe thead th {\n",
       "        text-align: right;\n",
       "    }\n",
       "</style>\n",
       "<table border=\"1\" class=\"dataframe\">\n",
       "  <thead>\n",
       "    <tr style=\"text-align: right;\">\n",
       "      <th></th>\n",
       "      <th>target</th>\n",
       "    </tr>\n",
       "  </thead>\n",
       "  <tbody>\n",
       "    <tr>\n",
       "      <td>rocket</td>\n",
       "      <td>5.057189</td>\n",
       "    </tr>\n",
       "    <tr>\n",
       "      <td>rus</td>\n",
       "      <td>4.697021</td>\n",
       "    </tr>\n",
       "    <tr>\n",
       "      <td>harden</td>\n",
       "      <td>3.813086</td>\n",
       "    </tr>\n",
       "    <tr>\n",
       "      <td>morey</td>\n",
       "      <td>3.055177</td>\n",
       "    </tr>\n",
       "    <tr>\n",
       "      <td>clint</td>\n",
       "      <td>2.999588</td>\n",
       "    </tr>\n",
       "    <tr>\n",
       "      <td>...</td>\n",
       "      <td>...</td>\n",
       "    </tr>\n",
       "    <tr>\n",
       "      <td>klay</td>\n",
       "      <td>-1.910276</td>\n",
       "    </tr>\n",
       "    <tr>\n",
       "      <td>kyrie</td>\n",
       "      <td>-2.056223</td>\n",
       "    </tr>\n",
       "    <tr>\n",
       "      <td>kawhi</td>\n",
       "      <td>-2.133535</td>\n",
       "    </tr>\n",
       "    <tr>\n",
       "      <td>simmons</td>\n",
       "      <td>-2.341947</td>\n",
       "    </tr>\n",
       "    <tr>\n",
       "      <td>zion</td>\n",
       "      <td>-2.696139</td>\n",
       "    </tr>\n",
       "  </tbody>\n",
       "</table>\n",
       "<p>10000 rows × 1 columns</p>\n",
       "</div>"
      ],
      "text/plain": [
       "           target\n",
       "rocket   5.057189\n",
       "rus      4.697021\n",
       "harden   3.813086\n",
       "morey    3.055177\n",
       "clint    2.999588\n",
       "...           ...\n",
       "klay    -1.910276\n",
       "kyrie   -2.056223\n",
       "kawhi   -2.133535\n",
       "simmons -2.341947\n",
       "zion    -2.696139\n",
       "\n",
       "[10000 rows x 1 columns]"
      ]
     },
     "execution_count": 88,
     "metadata": {},
     "output_type": "execute_result"
    }
   ],
   "source": [
    "result_df.sort_values(by='target', ascending=False)"
   ]
  },
  {
   "cell_type": "markdown",
   "metadata": {},
   "source": [
    "### Random Forest and CVEC"
   ]
  },
  {
   "cell_type": "code",
   "execution_count": 62,
   "metadata": {},
   "outputs": [],
   "source": [
    "from sklearn.ensemble import RandomForestRegressor, BaggingRegressor, AdaBoostRegressor,RandomForestClassifier, ExtraTreesClassifier"
   ]
  },
  {
   "cell_type": "code",
   "execution_count": 103,
   "metadata": {
    "scrolled": false
   },
   "outputs": [
    {
     "name": "stdout",
     "output_type": "stream",
     "text": [
      "Fitting 3 folds for each of 2 candidates, totalling 6 fits\n"
     ]
    },
    {
     "name": "stderr",
     "output_type": "stream",
     "text": [
      "[Parallel(n_jobs=-1)]: Using backend LokyBackend with 8 concurrent workers.\n",
      "[Parallel(n_jobs=-1)]: Done   6 out of   6 | elapsed:    3.1s finished\n"
     ]
    },
    {
     "name": "stdout",
     "output_type": "stream",
     "text": [
      "Gridsearch Best Params: {'cvec__max_features': None, 'cvec__ngram_range': (1, 2), 'rf__n_estimators': 10}\n",
      "Rf and Cvec Training Score:0.7466545289030496\n",
      "Rf and Cvec Testing Score:0.6566888396156689\n"
     ]
    }
   ],
   "source": [
    "# Instantiate a CountVectorizer.\n",
    "cvec = CountVectorizer(stop_words=my_stop_words)\n",
    "\n",
    "# Fit the vectorizer on our corpus.\n",
    "cvec.fit(X_train)\n",
    "\n",
    "# Transform the corpus.\n",
    "X_train = cvec.transform(X_train)\n",
    "\n",
    "# Convert X_train into a DataFrame.\n",
    "\n",
    "X_train_df = pd.DataFrame(X_train.toarray(),\n",
    "                          columns=cvec.get_feature_names())\n",
    "\n",
    "# Transform test\n",
    "X_test = cvec.transform(X_test)\n",
    "X_test_df = pd.DataFrame(X_test.toarray(),\n",
    "                         columns=cvec.get_feature_names())\n",
    "\n",
    "# Redefine training and testing sets.\n",
    "X_train, X_test, y_train, y_test = train_test_split(X,\n",
    "                                                    y,\n",
    "                                                    test_size=0.33,\n",
    "                                                    stratify=y,\n",
    "                                                    random_state=42)\n",
    "\n",
    "# 1. An instance of CountVectorizer (transformer)\n",
    "# 2. A LogisticRegression instance (estimator)\n",
    "\n",
    "cvec_rf_pipe = Pipeline([\n",
    "    ('cvec', CountVectorizer(stop_words=my_stop_words)),\n",
    "    ('rf', RandomForestClassifier())\n",
    "])\n",
    "\n",
    "cvec_rf_pipe_params = {\n",
    "    'cvec__max_features': [75000, None],\n",
    "    'cvec__ngram_range': [(1,2)],\n",
    "    'rf__n_estimators': [10] \n",
    "}\n",
    "\n",
    "# Instantiate GridSearchCV.\n",
    "\n",
    "rfcv_gs = GridSearchCV(cvec_rf_pipe, # what object are we optimizing?\n",
    "                  cvec_rf_pipe_params, # what parameters values are we searching?\n",
    "                  n_jobs=-1,\n",
    "                  cv=3, # 3-fold cross-validation.\n",
    "                 verbose=1) \n",
    "\n",
    "# Fit GridSearch to training data.\n",
    "rfcv_gs.fit(X_train, y_train);\n",
    "\n",
    "# Save best model as gs_model.\n",
    "rfcv_gs_model = rfcv_gs.best_estimator_\n",
    "\n",
    "# Best Parameters\n",
    "print(f'Gridsearch Best Params: {rfcv_gs.best_params_}')\n",
    "\n",
    "# Test and Train Scores\n",
    "print(f'Rf and Cvec Training Score:{rfcv_gs_model.score(X_train, y_train)}')\n",
    "print(f'Rf and Cvec Testing Score:{rfcv_gs_model.score(X_test, y_test)}')"
   ]
  },
  {
   "cell_type": "markdown",
   "metadata": {},
   "source": [
    "### Random Forest and TVEC"
   ]
  },
  {
   "cell_type": "code",
   "execution_count": 104,
   "metadata": {},
   "outputs": [
    {
     "name": "stdout",
     "output_type": "stream",
     "text": [
      "Fitting 3 folds for each of 2 candidates, totalling 6 fits\n"
     ]
    },
    {
     "name": "stderr",
     "output_type": "stream",
     "text": [
      "[Parallel(n_jobs=-1)]: Using backend LokyBackend with 8 concurrent workers.\n",
      "[Parallel(n_jobs=-1)]: Done   6 out of   6 | elapsed:    1.8s finished\n",
      "/home/dylan/anaconda3/lib/python3.7/site-packages/sklearn/ensemble/forest.py:245: FutureWarning: The default value of n_estimators will change from 10 in version 0.20 to 100 in 0.22.\n",
      "  \"10 in version 0.20 to 100 in 0.22.\", FutureWarning)\n"
     ]
    },
    {
     "name": "stdout",
     "output_type": "stream",
     "text": [
      "Gridsearch Best Params: {'tvec__max_features': 10000, 'tvec__ngram_range': (1, 2)}\n",
      "Rf and Tvec Training Score:0.7321802457897132\n",
      "Rf and Tvec Testing Score:0.6535476718403548\n"
     ]
    }
   ],
   "source": [
    "# Instantiate a CountVectorizer.\n",
    "tvec = TfidfVectorizer(stop_words=my_stop_words)\n",
    "\n",
    "# Fit the vectorizer on our corpus.\n",
    "tvec.fit(X_train)\n",
    "\n",
    "# Transform the corpus.\n",
    "X_train = tvec.transform(X_train)\n",
    "\n",
    "# Convert X_train into a DataFrame.\n",
    "\n",
    "X_train_df = pd.DataFrame(X_train.toarray(),\n",
    "                          columns=tvec.get_feature_names())\n",
    "\n",
    "# Transform test\n",
    "X_test = tvec.transform(X_test)\n",
    "X_test_df = pd.DataFrame(X_test.toarray(),\n",
    "                         columns=tvec.get_feature_names())\n",
    "\n",
    "# Redefine training and testing sets.\n",
    "X_train, X_test, y_train, y_test = train_test_split(X,\n",
    "                                                    y,\n",
    "                                                    test_size=0.33,\n",
    "                                                    stratify=y,\n",
    "                                                    random_state=42)\n",
    "\n",
    "# 1. An instance of CountVectorizer (transformer)\n",
    "# 2. A LogisticRegression instance (estimator)\n",
    "\n",
    "tvec_rf_pipe = Pipeline([\n",
    "    ('tvec', TfidfVectorizer(stop_words=my_stop_words)),\n",
    "    ('rf', RandomForestClassifier())\n",
    "])\n",
    "\n",
    "tvec_rf_pipe_params = {\n",
    "    'tvec__max_features': [10000, None],\n",
    "    'tvec__ngram_range': [(1,2)],\n",
    "}\n",
    "\n",
    "# Instantiate GridSearchCV.\n",
    "\n",
    "rftv_gs = GridSearchCV(tvec_rf_pipe, # what object are we optimizing?\n",
    "                  tvec_rf_pipe_params, # what parameters values are we searching?\n",
    "                  n_jobs=-1,\n",
    "                  cv=3,# 3-fold cross-validation.\n",
    "                 verbose=1) \n",
    "\n",
    "# Fit GridSearch to training data.\n",
    "rftv_gs.fit(X_train, y_train);\n",
    "\n",
    "# Save best model as gs_model.\n",
    "rftv_gs_model = rftv_gs.best_estimator_\n",
    "\n",
    "# Best Parameters\n",
    "print(f'Gridsearch Best Params: {rftv_gs.best_params_}')\n",
    "\n",
    "# Test and Train Scores\n",
    "print(f'Rf and Tvec Training Score:{rftv_gs_model.score(X_train, y_train)}')\n",
    "print(f'Rf and Tvec Testing Score:{rftv_gs_model.score(X_test, y_test)}')"
   ]
  },
  {
   "cell_type": "markdown",
   "metadata": {},
   "source": [
    "## Multinomial Naive Bayes with CVEC"
   ]
  },
  {
   "cell_type": "markdown",
   "metadata": {},
   "source": [
    "A Naive Bayes model assumes that each of the features it uses are conditionally independent of one another given some class.\n",
    "\n",
    "The term Multinomial Naive Bayes simply lets us know that each feature is a multinomial distribution, rather than some other distribution. \n",
    "This works well for data which can easily be turned into counts, such as word counts in text."
   ]
  },
  {
   "cell_type": "code",
   "execution_count": 65,
   "metadata": {},
   "outputs": [],
   "source": [
    "# initialize\n",
    "cvec = CountVectorizer(stop_words = my_stop_words)\n",
    "mnb = MultinomialNB()\n",
    "\n",
    "pipe = Pipeline([\n",
    "    ('cvec', cvec),\n",
    "    ('mnb', mnb)\n",
    "])"
   ]
  },
  {
   "cell_type": "code",
   "execution_count": 66,
   "metadata": {},
   "outputs": [
    {
     "name": "stdout",
     "output_type": "stream",
     "text": [
      "train score: 0.8369594902139281\n",
      "test score: 0.6971544715447154\n"
     ]
    }
   ],
   "source": [
    "# baseline MultinomialNB model\n",
    "\n",
    "pipe.fit(X_train, y_train)\n",
    "print('train score:', pipe.score(X_train, y_train))\n",
    "print('test score:', pipe.score(X_test, y_test))"
   ]
  },
  {
   "cell_type": "code",
   "execution_count": 105,
   "metadata": {
    "scrolled": false
   },
   "outputs": [
    {
     "name": "stdout",
     "output_type": "stream",
     "text": [
      "Fitting 3 folds for each of 10 candidates, totalling 30 fits\n"
     ]
    },
    {
     "name": "stderr",
     "output_type": "stream",
     "text": [
      "[Parallel(n_jobs=1)]: Using backend SequentialBackend with 1 concurrent workers.\n",
      "/home/dylan/anaconda3/lib/python3.7/site-packages/sklearn/naive_bayes.py:485: UserWarning: alpha too small will result in numeric errors, setting alpha = 1.0e-10\n",
      "  'setting alpha = %.1e' % _ALPHA_MIN)\n",
      "/home/dylan/anaconda3/lib/python3.7/site-packages/sklearn/naive_bayes.py:485: UserWarning: alpha too small will result in numeric errors, setting alpha = 1.0e-10\n",
      "  'setting alpha = %.1e' % _ALPHA_MIN)\n",
      "/home/dylan/anaconda3/lib/python3.7/site-packages/sklearn/naive_bayes.py:485: UserWarning: alpha too small will result in numeric errors, setting alpha = 1.0e-10\n",
      "  'setting alpha = %.1e' % _ALPHA_MIN)\n",
      "/home/dylan/anaconda3/lib/python3.7/site-packages/sklearn/naive_bayes.py:485: UserWarning: alpha too small will result in numeric errors, setting alpha = 1.0e-10\n",
      "  'setting alpha = %.1e' % _ALPHA_MIN)\n",
      "/home/dylan/anaconda3/lib/python3.7/site-packages/sklearn/naive_bayes.py:485: UserWarning: alpha too small will result in numeric errors, setting alpha = 1.0e-10\n",
      "  'setting alpha = %.1e' % _ALPHA_MIN)\n",
      "/home/dylan/anaconda3/lib/python3.7/site-packages/sklearn/naive_bayes.py:485: UserWarning: alpha too small will result in numeric errors, setting alpha = 1.0e-10\n",
      "  'setting alpha = %.1e' % _ALPHA_MIN)\n",
      "[Parallel(n_jobs=1)]: Done  30 out of  30 | elapsed:    4.2s finished\n",
      "/home/dylan/anaconda3/lib/python3.7/site-packages/sklearn/naive_bayes.py:485: UserWarning: alpha too small will result in numeric errors, setting alpha = 1.0e-10\n",
      "  'setting alpha = %.1e' % _ALPHA_MIN)\n"
     ]
    },
    {
     "name": "stdout",
     "output_type": "stream",
     "text": [
      "Gridsearch Best Params: {'cvec__max_features': 75000, 'cvec__ngram_range': (1, 1), 'mnb__alpha': 0}\n",
      "MNB and Cvec Training Score:0.7466545289030496\n",
      "MNB and Cvec Testing Score:0.6655580192165558\n"
     ]
    }
   ],
   "source": [
    "# Instantiate a CountVectorizer.\n",
    "cvec = CountVectorizer(stop_words=my_stop_words)\n",
    "\n",
    "# Fit the vectorizer on our corpus.\n",
    "cvec.fit(X_train)\n",
    "\n",
    "# Transform the corpus.\n",
    "X_train = cvec.transform(X_train)\n",
    "\n",
    "# Convert X_train into a DataFrame.\n",
    "\n",
    "X_train_df = pd.DataFrame(X_train.toarray(),\n",
    "                          columns=cvec.get_feature_names())\n",
    "\n",
    "# Transform test\n",
    "X_test = cvec.transform(X_test)\n",
    "X_test_df = pd.DataFrame(X_test.toarray(),\n",
    "                         columns=cvec.get_feature_names())\n",
    "\n",
    "# Redefine training and testing sets.\n",
    "X_train, X_test, y_train, y_test = train_test_split(X,\n",
    "                                                    y,\n",
    "                                                    test_size=0.33,\n",
    "                                                    stratify=y,\n",
    "                                                    random_state=42)\n",
    "\n",
    "# 1. An instance of CountVectorizer (transformer)\n",
    "# 2. A LogisticRegression instance (estimator)\n",
    "\n",
    "cvec_mnb_pipe = Pipeline([\n",
    "    ('cvec', CountVectorizer(stop_words=my_stop_words)),\n",
    "    ('mnb', MultinomialNB())\n",
    "])\n",
    "\n",
    "cvec_mnb_pipe_params = {\n",
    "    'cvec__max_features': [75000, None], \n",
    "    'cvec__ngram_range': [(1, 1)], \n",
    "    'mnb__alpha': [0, 0.25, 0.5, 0.75, 1]\n",
    "}\n",
    "\n",
    "# Instantiate GridSearchCV.\n",
    "\n",
    "mnbcv_gs = GridSearchCV(cvec_mnb_pipe, # what object are we optimizing?\n",
    "                  cvec_mnb_pipe_params, # what parameters values are we searching?\n",
    "                  cv=3,    # 3-fold cross-validation.\n",
    "                 verbose=1) \n",
    "\n",
    "\n",
    "# Fit GridSearch to training data.\n",
    "mnbcv_gs.fit(X_train, y_train);\n",
    "\n",
    "# Save best model as gs_model.\n",
    "mnbcv_gs_model = mnbcv_gs.best_estimator_\n",
    "\n",
    "# Best Parameters\n",
    "print(f'Gridsearch Best Params: {mnbcv_gs.best_params_}')\n",
    "\n",
    "# Test and Train Scores\n",
    "print(f'MNB and Cvec Training Score:{mnbcv_gs_model.score(X_train, y_train)}')\n",
    "print(f'MNB and Cvec Testing Score:{mnbcv_gs_model.score(X_test, y_test)}')"
   ]
  },
  {
   "cell_type": "code",
   "execution_count": 93,
   "metadata": {},
   "outputs": [],
   "source": [
    "result_df = pd.DataFrame(mnbcv_gs_model.named_steps['mnb'].coef_, \n",
    "                         columns=mnbcv_gs_model.named_steps['cvec'].get_feature_names(),\n",
    "                         index=['target']).T"
   ]
  },
  {
   "cell_type": "code",
   "execution_count": 94,
   "metadata": {},
   "outputs": [
    {
     "data": {
      "text/html": [
       "<div>\n",
       "<style scoped>\n",
       "    .dataframe tbody tr th:only-of-type {\n",
       "        vertical-align: middle;\n",
       "    }\n",
       "\n",
       "    .dataframe tbody tr th {\n",
       "        vertical-align: top;\n",
       "    }\n",
       "\n",
       "    .dataframe thead th {\n",
       "        text-align: right;\n",
       "    }\n",
       "</style>\n",
       "<table border=\"1\" class=\"dataframe\">\n",
       "  <thead>\n",
       "    <tr style=\"text-align: right;\">\n",
       "      <th></th>\n",
       "      <th>target</th>\n",
       "    </tr>\n",
       "  </thead>\n",
       "  <tbody>\n",
       "    <tr>\n",
       "      <td>rocket</td>\n",
       "      <td>-4.803114</td>\n",
       "    </tr>\n",
       "    <tr>\n",
       "      <td>harden</td>\n",
       "      <td>-4.870818</td>\n",
       "    </tr>\n",
       "    <tr>\n",
       "      <td>morey</td>\n",
       "      <td>-4.991322</td>\n",
       "    </tr>\n",
       "    <tr>\n",
       "      <td>chinese</td>\n",
       "      <td>-5.316954</td>\n",
       "    </tr>\n",
       "    <tr>\n",
       "      <td>rus</td>\n",
       "      <td>-5.578564</td>\n",
       "    </tr>\n",
       "    <tr>\n",
       "      <td>...</td>\n",
       "      <td>...</td>\n",
       "    </tr>\n",
       "    <tr>\n",
       "      <td>ergodan</td>\n",
       "      <td>-10.896684</td>\n",
       "    </tr>\n",
       "    <tr>\n",
       "      <td>playstation</td>\n",
       "      <td>-10.896684</td>\n",
       "    </tr>\n",
       "    <tr>\n",
       "      <td>playoffbound</td>\n",
       "      <td>-10.896684</td>\n",
       "    </tr>\n",
       "    <tr>\n",
       "      <td>eriously</td>\n",
       "      <td>-10.896684</td>\n",
       "    </tr>\n",
       "    <tr>\n",
       "      <td>remark</td>\n",
       "      <td>-10.896684</td>\n",
       "    </tr>\n",
       "  </tbody>\n",
       "</table>\n",
       "<p>12574 rows × 1 columns</p>\n",
       "</div>"
      ],
      "text/plain": [
       "                 target\n",
       "rocket        -4.803114\n",
       "harden        -4.870818\n",
       "morey         -4.991322\n",
       "chinese       -5.316954\n",
       "rus           -5.578564\n",
       "...                 ...\n",
       "ergodan      -10.896684\n",
       "playstation  -10.896684\n",
       "playoffbound -10.896684\n",
       "eriously     -10.896684\n",
       "remark       -10.896684\n",
       "\n",
       "[12574 rows x 1 columns]"
      ]
     },
     "execution_count": 94,
     "metadata": {},
     "output_type": "execute_result"
    }
   ],
   "source": [
    "result_df.sort_values(by='target', ascending=False)"
   ]
  },
  {
   "cell_type": "markdown",
   "metadata": {},
   "source": [
    "### Multinomial Naive Bayes with TFID"
   ]
  },
  {
   "cell_type": "code",
   "execution_count": 71,
   "metadata": {},
   "outputs": [
    {
     "name": "stdout",
     "output_type": "stream",
     "text": [
      "train score: 0.7969048702776513\n",
      "test score: 0.6792313377679231\n"
     ]
    }
   ],
   "source": [
    "# initialize\n",
    "tvec = TfidfVectorizer(stop_words = my_stop_words)\n",
    "mnb = MultinomialNB()\n",
    "\n",
    "pipe = Pipeline([\n",
    "    ('tvec', TfidfVectorizer()),\n",
    "    ('mnb', MultinomialNB())\n",
    "])\n",
    "\n",
    "# baseline MultinomialNB model\n",
    "\n",
    "pipe.fit(X_train, y_train)\n",
    "print('train score:', pipe.score(X_train, y_train))\n",
    "print('test score:', pipe.score(X_test, y_test))"
   ]
  },
  {
   "cell_type": "code",
   "execution_count": 106,
   "metadata": {},
   "outputs": [
    {
     "name": "stdout",
     "output_type": "stream",
     "text": [
      "Fitting 3 folds for each of 10 candidates, totalling 30 fits\n"
     ]
    },
    {
     "name": "stderr",
     "output_type": "stream",
     "text": [
      "[Parallel(n_jobs=1)]: Using backend SequentialBackend with 1 concurrent workers.\n",
      "/home/dylan/anaconda3/lib/python3.7/site-packages/sklearn/naive_bayes.py:485: UserWarning: alpha too small will result in numeric errors, setting alpha = 1.0e-10\n",
      "  'setting alpha = %.1e' % _ALPHA_MIN)\n",
      "/home/dylan/anaconda3/lib/python3.7/site-packages/sklearn/naive_bayes.py:485: UserWarning: alpha too small will result in numeric errors, setting alpha = 1.0e-10\n",
      "  'setting alpha = %.1e' % _ALPHA_MIN)\n",
      "/home/dylan/anaconda3/lib/python3.7/site-packages/sklearn/naive_bayes.py:485: UserWarning: alpha too small will result in numeric errors, setting alpha = 1.0e-10\n",
      "  'setting alpha = %.1e' % _ALPHA_MIN)\n",
      "/home/dylan/anaconda3/lib/python3.7/site-packages/sklearn/naive_bayes.py:485: UserWarning: alpha too small will result in numeric errors, setting alpha = 1.0e-10\n",
      "  'setting alpha = %.1e' % _ALPHA_MIN)\n",
      "/home/dylan/anaconda3/lib/python3.7/site-packages/sklearn/naive_bayes.py:485: UserWarning: alpha too small will result in numeric errors, setting alpha = 1.0e-10\n",
      "  'setting alpha = %.1e' % _ALPHA_MIN)\n",
      "/home/dylan/anaconda3/lib/python3.7/site-packages/sklearn/naive_bayes.py:485: UserWarning: alpha too small will result in numeric errors, setting alpha = 1.0e-10\n",
      "  'setting alpha = %.1e' % _ALPHA_MIN)\n",
      "[Parallel(n_jobs=1)]: Done  30 out of  30 | elapsed:    4.4s finished\n",
      "/home/dylan/anaconda3/lib/python3.7/site-packages/sklearn/naive_bayes.py:485: UserWarning: alpha too small will result in numeric errors, setting alpha = 1.0e-10\n",
      "  'setting alpha = %.1e' % _ALPHA_MIN)\n"
     ]
    },
    {
     "name": "stdout",
     "output_type": "stream",
     "text": [
      "Gridsearch Best Params: {'mnb__alpha': 0, 'tvec__max_features': 10000, 'tvec__ngram_range': (1, 1)}\n",
      "MNB and Tvec Training Score:0.7466545289030496\n",
      "MNB and Tvec Testing Score:0.6655580192165558\n"
     ]
    }
   ],
   "source": [
    "# Instantiate a CountVectorizer.\n",
    "tvec = TfidfVectorizer(stop_words=my_stop_words)\n",
    "\n",
    "# Fit the vectorizer on our corpus.\n",
    "tvec.fit(X_train)\n",
    "\n",
    "# Transform the corpus.\n",
    "X_train = tvec.transform(X_train)\n",
    "\n",
    "# Convert X_train into a DataFrame.\n",
    "\n",
    "X_train_df = pd.DataFrame(X_train.toarray(),\n",
    "                          columns=tvec.get_feature_names())\n",
    "\n",
    "# Transform test\n",
    "X_test = cvec.transform(X_test)\n",
    "X_test_df = pd.DataFrame(X_test.toarray(),\n",
    "                         columns=tvec.get_feature_names())\n",
    "\n",
    "# Redefine training and testing sets.\n",
    "X_train, X_test, y_train, y_test = train_test_split(X,\n",
    "                                                    y,\n",
    "                                                    test_size=0.33,\n",
    "                                                    stratify=y,\n",
    "                                                    random_state=42)\n",
    "\n",
    "# 1. An instance of CountVectorizer (transformer)\n",
    "# 2. A LogisticRegression instance (estimator)\n",
    "\n",
    "tvec_mnb_pipe = Pipeline([\n",
    "    ('tvec', TfidfVectorizer(stop_words=my_stop_words)),\n",
    "    ('mnb', MultinomialNB())\n",
    "])\n",
    "\n",
    "tvec_mnb_pipe_params = {\n",
    "    'tvec__max_features': [5000, 10000], \n",
    "    'tvec__ngram_range': [(1, 1)], \n",
    "    'mnb__alpha': [0, 0.25, 0.5, 0.75, 1]\n",
    "}\n",
    "\n",
    "# Instantiate GridSearchCV.\n",
    "\n",
    "mnbtv_gs = GridSearchCV(tvec_mnb_pipe, # what object are we optimizing?\n",
    "                  tvec_mnb_pipe_params, # what parameters values are we searching?\n",
    "                  cv=3,    # 3-fold cross-validation.\n",
    "                 verbose=1) \n",
    "\n",
    "\n",
    "# Fit GridSearch to training data.\n",
    "mnbtv_gs.fit(X_train, y_train);\n",
    "\n",
    "# Save best model as gs_model.\n",
    "mnbtv_gs_model = mnbtv_gs.best_estimator_\n",
    "\n",
    "# Best Parameters\n",
    "print(f'Gridsearch Best Params: {mnbtv_gs.best_params_}')\n",
    "\n",
    "# Test and Train Scores\n",
    "print(f'MNB and Tvec Training Score:{mnbtv_gs_model.score(X_train, y_train)}')\n",
    "print(f'MNB and Tvec Testing Score:{mnbtv_gs_model.score(X_test, y_test)}')"
   ]
  },
  {
   "cell_type": "code",
   "execution_count": 96,
   "metadata": {},
   "outputs": [],
   "source": [
    "result_df = pd.DataFrame(mnbtv_gs_model.named_steps['mnb'].coef_, \n",
    "                         columns=mnbtv_gs_model.named_steps['tvec'].get_feature_names(),\n",
    "                         index=['target']).T"
   ]
  },
  {
   "cell_type": "code",
   "execution_count": 97,
   "metadata": {
    "scrolled": false
   },
   "outputs": [
    {
     "data": {
      "text/html": [
       "<div>\n",
       "<style scoped>\n",
       "    .dataframe tbody tr th:only-of-type {\n",
       "        vertical-align: middle;\n",
       "    }\n",
       "\n",
       "    .dataframe tbody tr th {\n",
       "        vertical-align: top;\n",
       "    }\n",
       "\n",
       "    .dataframe thead th {\n",
       "        text-align: right;\n",
       "    }\n",
       "</style>\n",
       "<table border=\"1\" class=\"dataframe\">\n",
       "  <thead>\n",
       "    <tr style=\"text-align: right;\">\n",
       "      <th></th>\n",
       "      <th>target</th>\n",
       "    </tr>\n",
       "  </thead>\n",
       "  <tbody>\n",
       "    <tr>\n",
       "      <td>rocket</td>\n",
       "      <td>-5.185980</td>\n",
       "    </tr>\n",
       "    <tr>\n",
       "      <td>harden</td>\n",
       "      <td>-5.240515</td>\n",
       "    </tr>\n",
       "    <tr>\n",
       "      <td>morey</td>\n",
       "      <td>-5.444053</td>\n",
       "    </tr>\n",
       "    <tr>\n",
       "      <td>rus</td>\n",
       "      <td>-5.667364</td>\n",
       "    </tr>\n",
       "    <tr>\n",
       "      <td>fuck</td>\n",
       "      <td>-5.744321</td>\n",
       "    </tr>\n",
       "    <tr>\n",
       "      <td>...</td>\n",
       "      <td>...</td>\n",
       "    </tr>\n",
       "    <tr>\n",
       "      <td>dellavedova</td>\n",
       "      <td>-10.367915</td>\n",
       "    </tr>\n",
       "    <tr>\n",
       "      <td>restraint</td>\n",
       "      <td>-10.367915</td>\n",
       "    </tr>\n",
       "    <tr>\n",
       "      <td>restraunt</td>\n",
       "      <td>-10.367915</td>\n",
       "    </tr>\n",
       "    <tr>\n",
       "      <td>restricted</td>\n",
       "      <td>-10.367915</td>\n",
       "    </tr>\n",
       "    <tr>\n",
       "      <td>loser</td>\n",
       "      <td>-10.367915</td>\n",
       "    </tr>\n",
       "  </tbody>\n",
       "</table>\n",
       "<p>10000 rows × 1 columns</p>\n",
       "</div>"
      ],
      "text/plain": [
       "                target\n",
       "rocket       -5.185980\n",
       "harden       -5.240515\n",
       "morey        -5.444053\n",
       "rus          -5.667364\n",
       "fuck         -5.744321\n",
       "...                ...\n",
       "dellavedova -10.367915\n",
       "restraint   -10.367915\n",
       "restraunt   -10.367915\n",
       "restricted  -10.367915\n",
       "loser       -10.367915\n",
       "\n",
       "[10000 rows x 1 columns]"
      ]
     },
     "execution_count": 97,
     "metadata": {},
     "output_type": "execute_result"
    }
   ],
   "source": [
    "result_df.sort_values(by='target', ascending=False)"
   ]
  },
  {
   "cell_type": "markdown",
   "metadata": {},
   "source": [
    "## Visual of Model Performances"
   ]
  },
  {
   "cell_type": "code",
   "execution_count": 81,
   "metadata": {},
   "outputs": [
    {
     "data": {
      "image/png": "[encoded data removed]",
      "text/plain": [
       "<Figure size 432x288 with 1 Axes>"
      ]
     },
     "metadata": {
      "needs_background": "light"
     },
     "output_type": "display_data"
    }
   ],
   "source": [
    "# Taken from documentation on matplotlib bar graphs\n",
    "\n",
    "# data to plot\n",
    "n_groups = 6\n",
    "\n",
    "Training_Scores = (lrcv_gs_model.score(X_train, y_train), lrtv_gs_model.score(X_train, y_train),\n",
    "          rfcv_gs_model.score(X_train, y_train), rftv_gs_model.score(X_train, y_train),\n",
    "         mnbcv_gs_model.score(X_train, y_train), mnbtv_gs_model.score(X_train, y_train))\n",
    "\n",
    "Testing_Scores = (lrcv_gs_model.score(X_test, y_test), lrtv_gs_model.score(X_test, y_test),\n",
    "          rfcv_gs_model.score(X_test, y_test), rftv_gs_model.score(X_test, y_test),\n",
    "         mnbcv_gs_model.score(X_test, y_test), mnbtv_gs_model.score(X_test, y_test))\n",
    "\n",
    "# create plot\n",
    "fig, ax = plt.subplots()\n",
    "index = np.arange(n_groups)\n",
    "bar_width = 0.35\n",
    "opacity = 0.8\n",
    "\n",
    "rects1 = plt.bar(index, Training_Scores, bar_width,\n",
    "alpha=opacity,\n",
    "color='b',\n",
    "label='Train')\n",
    "\n",
    "rects2 = plt.bar(index + bar_width, Testing_Scores, bar_width,\n",
    "alpha=opacity,\n",
    "color='g',\n",
    "label='Test')\n",
    "\n",
    "plt.xlabel('Models')\n",
    "plt.ylabel('Scores %')\n",
    "plt.title('Model Train/Test scores')\n",
    "plt.xticks(index + bar_width, ('Lr/Cvec', 'Lr/Tvec', 'Rf/Cvec', 'Rf/Tvec', 'MNB/Cvec', 'MNB/Tvec'))\n",
    "plt.axhline(y=.58, color='r')\n",
    "plt.legend()\n",
    "\n",
    "plt.tight_layout()\n",
    "plt.show()"
   ]
  }
 ],
 "metadata": {
  "kernelspec": {
   "display_name": "Python 3",
   "language": "python",
   "name": "python3"
  },
  "language_info": {
   "codemirror_mode": {
    "name": "ipython",
    "version": 3
   },
   "file_extension": ".py",
   "mimetype": "text/x-python",
   "name": "python",
   "nbconvert_exporter": "python",
   "pygments_lexer": "ipython3",
   "version": "3.7.3"
  }
 },
 "nbformat": 4,
 "nbformat_minor": 2
}
